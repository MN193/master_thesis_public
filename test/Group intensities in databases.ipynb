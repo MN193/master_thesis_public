{
 "cells": [
  {
   "cell_type": "code",
   "execution_count": 47,
   "metadata": {},
   "outputs": [],
   "source": [
    "import pandas as pd\n",
    "import numpy as np\n",
    "import seaborn as sns\n",
    "import matplotlib.pyplot as plt"
   ]
  },
  {
   "cell_type": "code",
   "execution_count": 54,
   "metadata": {},
   "outputs": [
    {
     "data": {
      "text/html": [
       "<div>\n",
       "<style scoped>\n",
       "    .dataframe tbody tr th:only-of-type {\n",
       "        vertical-align: middle;\n",
       "    }\n",
       "\n",
       "    .dataframe tbody tr th {\n",
       "        vertical-align: top;\n",
       "    }\n",
       "\n",
       "    .dataframe thead th {\n",
       "        text-align: right;\n",
       "    }\n",
       "</style>\n",
       "<table border=\"1\" class=\"dataframe\">\n",
       "  <thead>\n",
       "    <tr style=\"text-align: right;\">\n",
       "      <th></th>\n",
       "      <th>Unnamed: 0</th>\n",
       "      <th>ElemSymbol</th>\n",
       "      <th>AtNum</th>\n",
       "      <th>Charge</th>\n",
       "      <th>Wavelength</th>\n",
       "      <th>IntIlab</th>\n",
       "      <th>Aki</th>\n",
       "      <th>Ei</th>\n",
       "      <th>Ek</th>\n",
       "      <th>gi</th>\n",
       "      <th>gk</th>\n",
       "      <th>IntAtomtrace</th>\n",
       "      <th>Source</th>\n",
       "      <th>IntLevel</th>\n",
       "    </tr>\n",
       "  </thead>\n",
       "  <tbody>\n",
       "    <tr>\n",
       "      <th>0</th>\n",
       "      <td>0</td>\n",
       "      <td>Xe</td>\n",
       "      <td>54</td>\n",
       "      <td>2</td>\n",
       "      <td>103.77</td>\n",
       "      <td>179.0</td>\n",
       "      <td>NaN</td>\n",
       "      <td>NaN</td>\n",
       "      <td>NaN</td>\n",
       "      <td>NaN</td>\n",
       "      <td>NaN</td>\n",
       "      <td>NaN</td>\n",
       "      <td>Ilab</td>\n",
       "      <td>1.0</td>\n",
       "    </tr>\n",
       "    <tr>\n",
       "      <th>1</th>\n",
       "      <td>1</td>\n",
       "      <td>Xe</td>\n",
       "      <td>54</td>\n",
       "      <td>2</td>\n",
       "      <td>104.13</td>\n",
       "      <td>230.0</td>\n",
       "      <td>NaN</td>\n",
       "      <td>NaN</td>\n",
       "      <td>NaN</td>\n",
       "      <td>NaN</td>\n",
       "      <td>NaN</td>\n",
       "      <td>NaN</td>\n",
       "      <td>Ilab</td>\n",
       "      <td>1.0</td>\n",
       "    </tr>\n",
       "    <tr>\n",
       "      <th>2</th>\n",
       "      <td>2</td>\n",
       "      <td>Ar</td>\n",
       "      <td>18</td>\n",
       "      <td>1</td>\n",
       "      <td>104.82</td>\n",
       "      <td>691.0</td>\n",
       "      <td>NaN</td>\n",
       "      <td>NaN</td>\n",
       "      <td>NaN</td>\n",
       "      <td>NaN</td>\n",
       "      <td>NaN</td>\n",
       "      <td>NaN</td>\n",
       "      <td>Ilab</td>\n",
       "      <td>2.0</td>\n",
       "    </tr>\n",
       "    <tr>\n",
       "      <th>3</th>\n",
       "      <td>3</td>\n",
       "      <td>Xe</td>\n",
       "      <td>54</td>\n",
       "      <td>2</td>\n",
       "      <td>104.83</td>\n",
       "      <td>208.0</td>\n",
       "      <td>NaN</td>\n",
       "      <td>NaN</td>\n",
       "      <td>NaN</td>\n",
       "      <td>NaN</td>\n",
       "      <td>NaN</td>\n",
       "      <td>NaN</td>\n",
       "      <td>Ilab</td>\n",
       "      <td>1.0</td>\n",
       "    </tr>\n",
       "    <tr>\n",
       "      <th>4</th>\n",
       "      <td>4</td>\n",
       "      <td>Xe</td>\n",
       "      <td>54</td>\n",
       "      <td>2</td>\n",
       "      <td>105.19</td>\n",
       "      <td>230.0</td>\n",
       "      <td>NaN</td>\n",
       "      <td>NaN</td>\n",
       "      <td>NaN</td>\n",
       "      <td>NaN</td>\n",
       "      <td>NaN</td>\n",
       "      <td>NaN</td>\n",
       "      <td>Ilab</td>\n",
       "      <td>1.0</td>\n",
       "    </tr>\n",
       "    <tr>\n",
       "      <th>...</th>\n",
       "      <td>...</td>\n",
       "      <td>...</td>\n",
       "      <td>...</td>\n",
       "      <td>...</td>\n",
       "      <td>...</td>\n",
       "      <td>...</td>\n",
       "      <td>...</td>\n",
       "      <td>...</td>\n",
       "      <td>...</td>\n",
       "      <td>...</td>\n",
       "      <td>...</td>\n",
       "      <td>...</td>\n",
       "      <td>...</td>\n",
       "      <td>...</td>\n",
       "    </tr>\n",
       "    <tr>\n",
       "      <th>2459</th>\n",
       "      <td>2459</td>\n",
       "      <td>Th</td>\n",
       "      <td>90</td>\n",
       "      <td>2</td>\n",
       "      <td>438.19</td>\n",
       "      <td>NaN</td>\n",
       "      <td>11530000.0</td>\n",
       "      <td>0.831</td>\n",
       "      <td>3.659</td>\n",
       "      <td>10.0</td>\n",
       "      <td>10.0</td>\n",
       "      <td>1.651102e+06</td>\n",
       "      <td>atomtrace</td>\n",
       "      <td>2.0</td>\n",
       "    </tr>\n",
       "    <tr>\n",
       "      <th>2460</th>\n",
       "      <td>2460</td>\n",
       "      <td>Th</td>\n",
       "      <td>90</td>\n",
       "      <td>2</td>\n",
       "      <td>439.11</td>\n",
       "      <td>NaN</td>\n",
       "      <td>6470000.0</td>\n",
       "      <td>0.557</td>\n",
       "      <td>3.379</td>\n",
       "      <td>6.0</td>\n",
       "      <td>8.0</td>\n",
       "      <td>1.025776e+06</td>\n",
       "      <td>atomtrace</td>\n",
       "      <td>2.0</td>\n",
       "    </tr>\n",
       "    <tr>\n",
       "      <th>2461</th>\n",
       "      <td>2461</td>\n",
       "      <td>U</td>\n",
       "      <td>92</td>\n",
       "      <td>2</td>\n",
       "      <td>367.01</td>\n",
       "      <td>NaN</td>\n",
       "      <td>27709000.0</td>\n",
       "      <td>0.113</td>\n",
       "      <td>3.481</td>\n",
       "      <td>10.0</td>\n",
       "      <td>12.0</td>\n",
       "      <td>5.854027e+06</td>\n",
       "      <td>atomtrace</td>\n",
       "      <td>3.0</td>\n",
       "    </tr>\n",
       "    <tr>\n",
       "      <th>2462</th>\n",
       "      <td>2462</td>\n",
       "      <td>U</td>\n",
       "      <td>92</td>\n",
       "      <td>2</td>\n",
       "      <td>409.01</td>\n",
       "      <td>NaN</td>\n",
       "      <td>12000000.0</td>\n",
       "      <td>0.217</td>\n",
       "      <td>3.248</td>\n",
       "      <td>14.0</td>\n",
       "      <td>14.0</td>\n",
       "      <td>3.876045e+06</td>\n",
       "      <td>atomtrace</td>\n",
       "      <td>3.0</td>\n",
       "    </tr>\n",
       "    <tr>\n",
       "      <th>2463</th>\n",
       "      <td>2463</td>\n",
       "      <td>U</td>\n",
       "      <td>92</td>\n",
       "      <td>2</td>\n",
       "      <td>454.36</td>\n",
       "      <td>NaN</td>\n",
       "      <td>1734400.0</td>\n",
       "      <td>0.113</td>\n",
       "      <td>2.841</td>\n",
       "      <td>10.0</td>\n",
       "      <td>12.0</td>\n",
       "      <td>7.700679e+05</td>\n",
       "      <td>atomtrace</td>\n",
       "      <td>2.0</td>\n",
       "    </tr>\n",
       "  </tbody>\n",
       "</table>\n",
       "<p>2464 rows × 14 columns</p>\n",
       "</div>"
      ],
      "text/plain": [
       "      Unnamed: 0 ElemSymbol  AtNum  Charge  Wavelength  IntIlab         Aki   \n",
       "0              0         Xe     54       2      103.77    179.0         NaN  \\\n",
       "1              1         Xe     54       2      104.13    230.0         NaN   \n",
       "2              2         Ar     18       1      104.82    691.0         NaN   \n",
       "3              3         Xe     54       2      104.83    208.0         NaN   \n",
       "4              4         Xe     54       2      105.19    230.0         NaN   \n",
       "...          ...        ...    ...     ...         ...      ...         ...   \n",
       "2459        2459         Th     90       2      438.19      NaN  11530000.0   \n",
       "2460        2460         Th     90       2      439.11      NaN   6470000.0   \n",
       "2461        2461          U     92       2      367.01      NaN  27709000.0   \n",
       "2462        2462          U     92       2      409.01      NaN  12000000.0   \n",
       "2463        2463          U     92       2      454.36      NaN   1734400.0   \n",
       "\n",
       "         Ei     Ek    gi    gk  IntAtomtrace     Source  IntLevel  \n",
       "0       NaN    NaN   NaN   NaN           NaN       Ilab       1.0  \n",
       "1       NaN    NaN   NaN   NaN           NaN       Ilab       1.0  \n",
       "2       NaN    NaN   NaN   NaN           NaN       Ilab       2.0  \n",
       "3       NaN    NaN   NaN   NaN           NaN       Ilab       1.0  \n",
       "4       NaN    NaN   NaN   NaN           NaN       Ilab       1.0  \n",
       "...     ...    ...   ...   ...           ...        ...       ...  \n",
       "2459  0.831  3.659  10.0  10.0  1.651102e+06  atomtrace       2.0  \n",
       "2460  0.557  3.379   6.0   8.0  1.025776e+06  atomtrace       2.0  \n",
       "2461  0.113  3.481  10.0  12.0  5.854027e+06  atomtrace       3.0  \n",
       "2462  0.217  3.248  14.0  14.0  3.876045e+06  atomtrace       3.0  \n",
       "2463  0.113  2.841  10.0  12.0  7.700679e+05  atomtrace       2.0  \n",
       "\n",
       "[2464 rows x 14 columns]"
      ]
     },
     "execution_count": 54,
     "metadata": {},
     "output_type": "execute_result"
    }
   ],
   "source": [
    "db_df = pd.read_csv(r'..\\databases\\common_Ilab_atomtrace_database_extended.csv')\n",
    "max_ilab_int = db_df[\"IntIlab\"].max()\n",
    "db_df[\"IntLevel Ilab\"] = np.where(db_df[\"IntIlab\"] >= max_ilab_int/1.2, 3, np.where(db_df[\"IntIlab\"] >=max_ilab_int/4, 2, np.where(db_df[\"IntIlab\"].isna() == True, np.NaN, 1)))\n",
    "max_atomtrace_int = np.log1p(db_df[\"IntAtomtrace\"]).max()\n",
    "db_df[\"IntLevel Atomtrace\"] = np.where(np.log1p(db_df[\"IntAtomtrace\"])>=max_atomtrace_int/1.2, 3, np.where(np.log1p(db_df[\"IntAtomtrace\"])>=max_atomtrace_int/4, 2, np.where(db_df[\"IntAtomtrace\"].isna() == True, np.NaN, 1)))\n",
    "db_df[\"IntLevel\"] = np.where(db_df[\"IntLevel Ilab\"].isna() == False, db_df[\"IntLevel Ilab\"], db_df[\"IntLevel Atomtrace\"])\n",
    "db_df.drop([\"IntLevel Ilab\", \"IntLevel Atomtrace\"], axis=1, inplace=True)\n",
    "db_df"
   ]
  },
  {
   "cell_type": "code",
   "execution_count": 46,
   "metadata": {},
   "outputs": [
    {
     "data": {
      "text/plain": [
       "<Axes: xlabel='Wavelength', ylabel='IntLevel'>"
      ]
     },
     "execution_count": 46,
     "metadata": {},
     "output_type": "execute_result"
    },
    {
     "data": {
      "image/png": "[encoded data removed]",
      "text/plain": [
       "<Figure size 640x480 with 1 Axes>"
      ]
     },
     "metadata": {},
     "output_type": "display_data"
    }
   ],
   "source": [
    "elem = \"Fe\"\n",
    "sns.scatterplot(x=db_df[db_df[\"ElemSymbol\"] == elem][\"Wavelength\"], y=db_df[db_df[\"ElemSymbol\"] == elem][\"IntLevel\"], hue=db_df[db_df[\"ElemSymbol\"] == elem][\"Source\"])"
   ]
  },
  {
   "cell_type": "code",
   "execution_count": 48,
   "metadata": {},
   "outputs": [
    {
     "data": {
      "text/plain": [
       "(array([12.,  7.,  4.,  5.,  4., 11., 34., 49., 88., 48.]),\n",
       " array([ 0.        ,  1.78168867,  3.56337734,  5.34506601,  7.12675468,\n",
       "         8.90844335, 10.69013202, 12.47182069, 14.25350936, 16.03519803,\n",
       "        17.81688671]),\n",
       " <BarContainer object of 10 artists>)"
      ]
     },
     "execution_count": 48,
     "metadata": {},
     "output_type": "execute_result"
    },
    {
     "data": {
      "image/png": "[encoded data removed]",
      "text/plain": [
       "<Figure size 640x480 with 1 Axes>"
      ]
     },
     "metadata": {},
     "output_type": "display_data"
    }
   ],
   "source": [
    "plt.hist(np.log1p(db_df[\"IntAtomtrace\"]))"
   ]
  },
  {
   "cell_type": "code",
   "execution_count": 49,
   "metadata": {},
   "outputs": [
    {
     "data": {
      "text/plain": [
       "(array([105.,  81., 180., 289., 708., 579., 135.,  50.,  46.,  12.]),\n",
       " array([-100. ,   71.2,  242.4,  413.6,  584.8,  756. ,  927.2, 1098.4,\n",
       "        1269.6, 1440.8, 1612. ]),\n",
       " <BarContainer object of 10 artists>)"
      ]
     },
     "execution_count": 49,
     "metadata": {},
     "output_type": "execute_result"
    },
    {
     "data": {
      "image/png": "[encoded data removed]",
      "text/plain": [
       "<Figure size 640x480 with 1 Axes>"
      ]
     },
     "metadata": {},
     "output_type": "display_data"
    }
   ],
   "source": [
    "plt.hist(db_df[\"IntIlab\"])"
   ]
  }
 ],
 "metadata": {
  "kernelspec": {
   "display_name": "Diplomarbeit-J1y0I4ww",
   "language": "python",
   "name": "python3"
  },
  "language_info": {
   "codemirror_mode": {
    "name": "ipython",
    "version": 3
   },
   "file_extension": ".py",
   "mimetype": "text/x-python",
   "name": "python",
   "nbconvert_exporter": "python",
   "pygments_lexer": "ipython3",
   "version": "3.11.1"
  },
  "orig_nbformat": 4
 },
 "nbformat": 4,
 "nbformat_minor": 2
}
